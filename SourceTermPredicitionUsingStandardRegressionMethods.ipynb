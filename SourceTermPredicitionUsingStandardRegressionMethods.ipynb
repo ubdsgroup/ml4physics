{
 "cells": [
  {
   "cell_type": "code",
   "execution_count": 1,
   "metadata": {
    "collapsed": true
   },
   "outputs": [],
   "source": [
    "\n",
    "from __future__ import absolute_import, division, print_function, unicode_literals\n",
    "\n",
    "import pathlib\n",
    "\n",
    "import matplotlib.pyplot as plt\n",
    "import pandas as pd\n",
    "import seaborn as sns\n",
    "\n",
    "import numpy as np\n"
   ]
  },
  {
   "cell_type": "code",
   "execution_count": 3,
   "metadata": {},
   "outputs": [],
   "source": [
    "dataset = pd.read_csv('flattened_dataset.csv', header=0)\n",
    "\n",
    "'''\n",
    "source_terms = ['souspecOH','souspecO2','souspecO','souspecNO2','souspecNO','souspecNNH','souspecNH3','souspecNH2','souspecNH',\n",
    "'souspecNCO','souspecN2O','souspecN2','souspecN','souspecHOCN','souspecHO2','souspecHNO','souspecHNCO','souspecHCO','souspecHCNO'\n",
    ",'souspecHCNN','souspecHCN','souspecHCCOH','souspecHCCO','souspecH2O2','souspecH2O','souspecH2CN','souspecH2','souspecH'\n",
    ",'souspecCO2','souspecCO','souspecCN','souspecCH4','souspecCH3OH','souspecCH3O','souspecCH3CHO','souspecCH3','souspecCH2OH',\n",
    "'souspecCH2O','souspecCH2CO','souspecCH2CHO','souspecCH2_lP_S_rP_','souspecCH2','souspecCH','souspecC3H8','souspecC3H7',\n",
    "'souspecC2H6','souspecC2H5','souspecC2H4','souspecC2H3','souspecC2H2','souspecC2H','souspecC']\n",
    "'''\n",
    "#source_terms = ['souspecCO2']\n",
    "source_terms = ['souener']\n",
    "\n",
    "#,'souener'\n",
    "\n",
    "species_mass_fracs = ['X','YiCH4','YiH','YiO','YiO2','YiOH','YiH2O','YiHO2','YiH2O2','YiC','YiCH','YiCH2','YiCH2_lP_S_rP_',\n",
    "'YiCH3','YiH2','YiCO','YiCO2','YiHCO','YiCH2O','YiCH2OH','YiCH3O','YiCH3OH','YiC2H','YiC2H2','YiC2H3','YiC2H4','YiC2H5','YiC2H6',\n",
    "'YiHCCO','YiCH2CO','YiHCCOH','YiN','YiNH','YiNH2','YiNH3','YiNNH','YiNO','YiNO2','YiN2O','YiHNO','YiCN','YiHCN','YiH2CN',\n",
    "'YiHCNN','YiHCNO','YiHOCN','YiHNCO','YiNCO','YiC3H7','YiC3H8','YiCH2CHO','YiCH3CHO','YiN2','YiAR']\n",
    "\n",
    "#species_mass_fracs = ['X','pca1','pca2']\n",
    "\n",
    "all_variables = ['YiOH','YiO2','YiO','YiNO2','YiNO','YiNNH','YiNH3','YiNH2','YiNH','YiNCO','YiN2O','YiN2','YiN','YiHOCN','YiHO2',\n",
    "'YiHNO','YiHNCO','YiHCO','YiHCNO','YiHCNN','YiHCN','YiHCCOH','YiHCCO','YiH2O2','YiH2O','YiH2CN','YiH2','YiH','YiCO2','YiCO',\n",
    "'YiCN','YiCH4','YiCH3OH','YiCH3O','YiCH3CHO','YiCH3','YiCH2OH','YiCH2O','YiCH2CO','YiCH2CHO','YiCH2_lP_S_rP_','YiCH2','YiCH',\n",
    "'YiC3H8','YiC3H7','YiC2H6','YiC2H5','YiC2H4','YiC2H3','YiC2H2','YiC2H','YiC','YiAR',\n",
    "\n",
    "'souspecOH','souspecO2','souspecO','souspecNO2','souspecNO','souspecNNH','souspecNH3','souspecNH2','souspecNH','souspecNCO',\n",
    "'souspecN2O','souspecN2','souspecN','souspecHOCN','souspecHO2','souspecHNO','souspecHNCO','souspecHCO','souspecHCNO',\n",
    "'souspecHCNN','souspecHCN','souspecHCCOH','souspecHCCO','souspecH2O2','souspecH2O','souspecH2CN','souspecH2','souspecH',\n",
    "'souspecCO2','souspecCO','souspecCN','souspecCH4','souspecCH3OH','souspecCH3O','souspecCH3CHO','souspecCH3','souspecCH2OH',\n",
    "'souspecCH2O','souspecCH2CO','souspecCH2CHO','souspecCH2_lP_S_rP_','souspecCH2','souspecCH','souspecC3H8','souspecC3H7',\n",
    "'souspecC2H6','souspecC2H5','souspecC2H4','souspecC2H3','souspecC2H2','souspecC2H','souspecC','souener',\n",
    "\n",
    "'Zmix','X','vel','T','rho','q','p','energy']\n",
    "\n",
    "#filter the data to the required flames\n",
    "filtered_dataset = dataset[dataset['flame-key'].isin([6.232136021404205E-5,0.0035848592240854188,0.0034056162628811476,0.0037735360253530726,0.003972143184582182,0.004181203352191771,0.0044012666865176535,0.00463291230159753,0.0048767497911552955,0.005133420832795048,0.005403600876626367,0.005688000922764597,0.005987369392383786,0.006302494097246091,0.006634204312890623,0.006983372960937498,0.01])]\n",
    "\n",
    "\n",
    "filtered_dataset = dataset[np.concatenate((source_terms, species_mass_fracs), axis=0)]"
   ]
  },
  {
   "cell_type": "code",
   "execution_count": 4,
   "metadata": {},
   "outputs": [
    {
     "data": {
      "text/html": [
       "<div>\n",
       "<style>\n",
       "    .dataframe thead tr:only-child th {\n",
       "        text-align: right;\n",
       "    }\n",
       "\n",
       "    .dataframe thead th {\n",
       "        text-align: left;\n",
       "    }\n",
       "\n",
       "    .dataframe tbody tr th {\n",
       "        vertical-align: top;\n",
       "    }\n",
       "</style>\n",
       "<table border=\"1\" class=\"dataframe\">\n",
       "  <thead>\n",
       "    <tr style=\"text-align: right;\">\n",
       "      <th></th>\n",
       "      <th>souener</th>\n",
       "      <th>X</th>\n",
       "      <th>YiCH4</th>\n",
       "      <th>YiH</th>\n",
       "      <th>YiO</th>\n",
       "      <th>YiO2</th>\n",
       "      <th>YiOH</th>\n",
       "      <th>YiH2O</th>\n",
       "      <th>YiHO2</th>\n",
       "      <th>YiH2O2</th>\n",
       "      <th>...</th>\n",
       "      <th>YiHCNO</th>\n",
       "      <th>YiHOCN</th>\n",
       "      <th>YiHNCO</th>\n",
       "      <th>YiNCO</th>\n",
       "      <th>YiC3H7</th>\n",
       "      <th>YiC3H8</th>\n",
       "      <th>YiCH2CHO</th>\n",
       "      <th>YiCH3CHO</th>\n",
       "      <th>YiN2</th>\n",
       "      <th>YiAR</th>\n",
       "    </tr>\n",
       "  </thead>\n",
       "  <tbody>\n",
       "    <tr>\n",
       "      <th>count</th>\n",
       "      <td>2.030100e+04</td>\n",
       "      <td>20301.000000</td>\n",
       "      <td>20301.000000</td>\n",
       "      <td>2.030100e+04</td>\n",
       "      <td>2.030100e+04</td>\n",
       "      <td>20301.000000</td>\n",
       "      <td>2.030100e+04</td>\n",
       "      <td>2.030100e+04</td>\n",
       "      <td>2.030100e+04</td>\n",
       "      <td>2.030100e+04</td>\n",
       "      <td>...</td>\n",
       "      <td>2.030100e+04</td>\n",
       "      <td>2.030100e+04</td>\n",
       "      <td>2.030100e+04</td>\n",
       "      <td>2.030100e+04</td>\n",
       "      <td>2.030100e+04</td>\n",
       "      <td>2.030100e+04</td>\n",
       "      <td>2.030100e+04</td>\n",
       "      <td>2.030100e+04</td>\n",
       "      <td>20301.000000</td>\n",
       "      <td>2.030100e+04</td>\n",
       "    </tr>\n",
       "    <tr>\n",
       "      <th>mean</th>\n",
       "      <td>2.310072e+07</td>\n",
       "      <td>0.000985</td>\n",
       "      <td>0.473402</td>\n",
       "      <td>2.783925e-06</td>\n",
       "      <td>2.257927e-05</td>\n",
       "      <td>0.093567</td>\n",
       "      <td>4.606760e-05</td>\n",
       "      <td>1.524761e-02</td>\n",
       "      <td>6.542785e-07</td>\n",
       "      <td>9.476055e-08</td>\n",
       "      <td>...</td>\n",
       "      <td>4.127575e-07</td>\n",
       "      <td>1.680536e-09</td>\n",
       "      <td>1.210324e-06</td>\n",
       "      <td>1.149677e-09</td>\n",
       "      <td>8.149977e-10</td>\n",
       "      <td>3.859298e-07</td>\n",
       "      <td>4.351687e-09</td>\n",
       "      <td>3.184400e-07</td>\n",
       "      <td>0.397840</td>\n",
       "      <td>8.733126e-14</td>\n",
       "    </tr>\n",
       "    <tr>\n",
       "      <th>std</th>\n",
       "      <td>1.730667e+08</td>\n",
       "      <td>0.001560</td>\n",
       "      <td>0.296526</td>\n",
       "      <td>1.900796e-05</td>\n",
       "      <td>1.626329e-04</td>\n",
       "      <td>0.074044</td>\n",
       "      <td>3.179419e-04</td>\n",
       "      <td>3.292732e-02</td>\n",
       "      <td>4.556271e-06</td>\n",
       "      <td>6.816620e-07</td>\n",
       "      <td>...</td>\n",
       "      <td>9.703065e-07</td>\n",
       "      <td>4.698129e-09</td>\n",
       "      <td>2.859855e-06</td>\n",
       "      <td>7.388775e-09</td>\n",
       "      <td>2.686844e-09</td>\n",
       "      <td>1.212552e-06</td>\n",
       "      <td>2.197062e-08</td>\n",
       "      <td>1.194319e-06</td>\n",
       "      <td>0.223388</td>\n",
       "      <td>3.105831e-13</td>\n",
       "    </tr>\n",
       "    <tr>\n",
       "      <th>min</th>\n",
       "      <td>-3.146726e+06</td>\n",
       "      <td>0.000000</td>\n",
       "      <td>0.000000</td>\n",
       "      <td>0.000000e+00</td>\n",
       "      <td>0.000000e+00</td>\n",
       "      <td>0.000000</td>\n",
       "      <td>0.000000e+00</td>\n",
       "      <td>0.000000e+00</td>\n",
       "      <td>0.000000e+00</td>\n",
       "      <td>0.000000e+00</td>\n",
       "      <td>...</td>\n",
       "      <td>0.000000e+00</td>\n",
       "      <td>0.000000e+00</td>\n",
       "      <td>0.000000e+00</td>\n",
       "      <td>0.000000e+00</td>\n",
       "      <td>0.000000e+00</td>\n",
       "      <td>0.000000e+00</td>\n",
       "      <td>0.000000e+00</td>\n",
       "      <td>0.000000e+00</td>\n",
       "      <td>0.000000</td>\n",
       "      <td>0.000000e+00</td>\n",
       "    </tr>\n",
       "    <tr>\n",
       "      <th>25%</th>\n",
       "      <td>-4.827716e-06</td>\n",
       "      <td>0.000077</td>\n",
       "      <td>0.213568</td>\n",
       "      <td>3.151034e-57</td>\n",
       "      <td>3.249793e-52</td>\n",
       "      <td>0.017969</td>\n",
       "      <td>3.832978e-49</td>\n",
       "      <td>1.952574e-34</td>\n",
       "      <td>9.345320e-36</td>\n",
       "      <td>3.717510e-39</td>\n",
       "      <td>...</td>\n",
       "      <td>1.621899e-39</td>\n",
       "      <td>7.985134e-42</td>\n",
       "      <td>4.569362e-39</td>\n",
       "      <td>1.349658e-45</td>\n",
       "      <td>3.744670e-41</td>\n",
       "      <td>2.467744e-38</td>\n",
       "      <td>3.541642e-77</td>\n",
       "      <td>2.481827e-38</td>\n",
       "      <td>0.206824</td>\n",
       "      <td>3.219647e-15</td>\n",
       "    </tr>\n",
       "    <tr>\n",
       "      <th>50%</th>\n",
       "      <td>2.258500e-06</td>\n",
       "      <td>0.000289</td>\n",
       "      <td>0.464824</td>\n",
       "      <td>1.039041e-56</td>\n",
       "      <td>8.163809e-52</td>\n",
       "      <td>0.086365</td>\n",
       "      <td>1.450285e-48</td>\n",
       "      <td>5.139205e-34</td>\n",
       "      <td>2.351426e-35</td>\n",
       "      <td>9.784541e-39</td>\n",
       "      <td>...</td>\n",
       "      <td>4.268862e-39</td>\n",
       "      <td>2.101699e-41</td>\n",
       "      <td>1.202663e-38</td>\n",
       "      <td>3.552320e-45</td>\n",
       "      <td>9.856027e-41</td>\n",
       "      <td>6.495140e-38</td>\n",
       "      <td>2.046808e-76</td>\n",
       "      <td>6.532206e-38</td>\n",
       "      <td>0.403983</td>\n",
       "      <td>5.551115e-15</td>\n",
       "    </tr>\n",
       "    <tr>\n",
       "      <th>75%</th>\n",
       "      <td>1.115031e-03</td>\n",
       "      <td>0.001154</td>\n",
       "      <td>0.726131</td>\n",
       "      <td>5.031995e-56</td>\n",
       "      <td>2.610758e-51</td>\n",
       "      <td>0.158239</td>\n",
       "      <td>7.631519e-48</td>\n",
       "      <td>1.843167e-33</td>\n",
       "      <td>6.539121e-35</td>\n",
       "      <td>3.509208e-38</td>\n",
       "      <td>...</td>\n",
       "      <td>1.531020e-38</td>\n",
       "      <td>7.537707e-41</td>\n",
       "      <td>4.313329e-38</td>\n",
       "      <td>1.274033e-44</td>\n",
       "      <td>3.534848e-40</td>\n",
       "      <td>2.329471e-37</td>\n",
       "      <td>1.768194e-75</td>\n",
       "      <td>2.342764e-37</td>\n",
       "      <td>0.593410</td>\n",
       "      <td>8.548717e-15</td>\n",
       "    </tr>\n",
       "    <tr>\n",
       "      <th>max</th>\n",
       "      <td>3.398202e+09</td>\n",
       "      <td>0.010000</td>\n",
       "      <td>1.000000</td>\n",
       "      <td>2.255588e-04</td>\n",
       "      <td>1.986942e-03</td>\n",
       "      <td>0.230693</td>\n",
       "      <td>3.356102e-03</td>\n",
       "      <td>1.198625e-01</td>\n",
       "      <td>7.998829e-05</td>\n",
       "      <td>1.218726e-05</td>\n",
       "      <td>...</td>\n",
       "      <td>4.453067e-06</td>\n",
       "      <td>4.765748e-08</td>\n",
       "      <td>1.288958e-05</td>\n",
       "      <td>9.730970e-08</td>\n",
       "      <td>3.627869e-08</td>\n",
       "      <td>1.080681e-05</td>\n",
       "      <td>4.850901e-07</td>\n",
       "      <td>1.664267e-05</td>\n",
       "      <td>0.769307</td>\n",
       "      <td>2.058687e-12</td>\n",
       "    </tr>\n",
       "  </tbody>\n",
       "</table>\n",
       "<p>8 rows × 55 columns</p>\n",
       "</div>"
      ],
      "text/plain": [
       "            souener             X         YiCH4           YiH           YiO  \\\n",
       "count  2.030100e+04  20301.000000  20301.000000  2.030100e+04  2.030100e+04   \n",
       "mean   2.310072e+07      0.000985      0.473402  2.783925e-06  2.257927e-05   \n",
       "std    1.730667e+08      0.001560      0.296526  1.900796e-05  1.626329e-04   \n",
       "min   -3.146726e+06      0.000000      0.000000  0.000000e+00  0.000000e+00   \n",
       "25%   -4.827716e-06      0.000077      0.213568  3.151034e-57  3.249793e-52   \n",
       "50%    2.258500e-06      0.000289      0.464824  1.039041e-56  8.163809e-52   \n",
       "75%    1.115031e-03      0.001154      0.726131  5.031995e-56  2.610758e-51   \n",
       "max    3.398202e+09      0.010000      1.000000  2.255588e-04  1.986942e-03   \n",
       "\n",
       "               YiO2          YiOH         YiH2O         YiHO2        YiH2O2  \\\n",
       "count  20301.000000  2.030100e+04  2.030100e+04  2.030100e+04  2.030100e+04   \n",
       "mean       0.093567  4.606760e-05  1.524761e-02  6.542785e-07  9.476055e-08   \n",
       "std        0.074044  3.179419e-04  3.292732e-02  4.556271e-06  6.816620e-07   \n",
       "min        0.000000  0.000000e+00  0.000000e+00  0.000000e+00  0.000000e+00   \n",
       "25%        0.017969  3.832978e-49  1.952574e-34  9.345320e-36  3.717510e-39   \n",
       "50%        0.086365  1.450285e-48  5.139205e-34  2.351426e-35  9.784541e-39   \n",
       "75%        0.158239  7.631519e-48  1.843167e-33  6.539121e-35  3.509208e-38   \n",
       "max        0.230693  3.356102e-03  1.198625e-01  7.998829e-05  1.218726e-05   \n",
       "\n",
       "           ...             YiHCNO        YiHOCN        YiHNCO         YiNCO  \\\n",
       "count      ...       2.030100e+04  2.030100e+04  2.030100e+04  2.030100e+04   \n",
       "mean       ...       4.127575e-07  1.680536e-09  1.210324e-06  1.149677e-09   \n",
       "std        ...       9.703065e-07  4.698129e-09  2.859855e-06  7.388775e-09   \n",
       "min        ...       0.000000e+00  0.000000e+00  0.000000e+00  0.000000e+00   \n",
       "25%        ...       1.621899e-39  7.985134e-42  4.569362e-39  1.349658e-45   \n",
       "50%        ...       4.268862e-39  2.101699e-41  1.202663e-38  3.552320e-45   \n",
       "75%        ...       1.531020e-38  7.537707e-41  4.313329e-38  1.274033e-44   \n",
       "max        ...       4.453067e-06  4.765748e-08  1.288958e-05  9.730970e-08   \n",
       "\n",
       "             YiC3H7        YiC3H8      YiCH2CHO      YiCH3CHO          YiN2  \\\n",
       "count  2.030100e+04  2.030100e+04  2.030100e+04  2.030100e+04  20301.000000   \n",
       "mean   8.149977e-10  3.859298e-07  4.351687e-09  3.184400e-07      0.397840   \n",
       "std    2.686844e-09  1.212552e-06  2.197062e-08  1.194319e-06      0.223388   \n",
       "min    0.000000e+00  0.000000e+00  0.000000e+00  0.000000e+00      0.000000   \n",
       "25%    3.744670e-41  2.467744e-38  3.541642e-77  2.481827e-38      0.206824   \n",
       "50%    9.856027e-41  6.495140e-38  2.046808e-76  6.532206e-38      0.403983   \n",
       "75%    3.534848e-40  2.329471e-37  1.768194e-75  2.342764e-37      0.593410   \n",
       "max    3.627869e-08  1.080681e-05  4.850901e-07  1.664267e-05      0.769307   \n",
       "\n",
       "               YiAR  \n",
       "count  2.030100e+04  \n",
       "mean   8.733126e-14  \n",
       "std    3.105831e-13  \n",
       "min    0.000000e+00  \n",
       "25%    3.219647e-15  \n",
       "50%    5.551115e-15  \n",
       "75%    8.548717e-15  \n",
       "max    2.058687e-12  \n",
       "\n",
       "[8 rows x 55 columns]"
      ]
     },
     "execution_count": 4,
     "metadata": {},
     "output_type": "execute_result"
    }
   ],
   "source": [
    "filtered_dataset.describe()"
   ]
  },
  {
   "cell_type": "code",
   "execution_count": 5,
   "metadata": {},
   "outputs": [],
   "source": [
    "stats = filtered_dataset.describe()\n",
    "\n",
    "stats_source_terms = stats[source_terms]\n",
    "\n",
    "\n",
    "stats_source_terms = stats_source_terms.transpose()\n",
    "\n",
    "stats_species_mass_fracs = stats[species_mass_fracs]\n",
    "\n",
    "stats_species_mass_fracs = stats_species_mass_fracs.transpose()\n",
    "\n",
    "stats = stats.transpose()\n",
    "\n",
    "#train_data = dataset.sample(frac=0.8,random_state=0)\n",
    "\n",
    "train_data = filtered_dataset\n",
    "\n",
    "test_data = filtered_dataset#.drop(train_data.index)\n",
    "\n",
    "#normed_train_data = norm(train_data)\n",
    "\n",
    "normed_train_data = train_data\n",
    "\n",
    "#normed_test_data = norm(test_data)\n",
    "\n",
    "normed_test_data = test_data\n",
    "\n",
    "train_labels = train_data[source_terms]\n",
    "\n",
    "test_labels = test_data[source_terms]\n",
    "\n",
    "normed_train_labels = normed_train_data[source_terms]\n",
    "\n",
    "normed_test_labels = normed_test_data[source_terms]\n",
    "\n",
    "normed_train_data = normed_train_data[species_mass_fracs]\n",
    "\n",
    "normed_test_data = normed_test_data[species_mass_fracs]\n",
    "\n",
    "#pre-process the training data to see if the predicition accurracy improves\n",
    "from sklearn import preprocessing\n",
    "normed_train_data = preprocessing.scale(normed_train_data.values)\n",
    "normed_test_data = preprocessing.scale(normed_test_data.values)\n",
    "\n",
    "normed_train_data = pd.DataFrame(normed_train_data,columns=species_mass_fracs)\n",
    "\n",
    "normed_test_data = pd.DataFrame(normed_test_data,columns=species_mass_fracs)\n"
   ]
  },
  {
   "cell_type": "code",
   "execution_count": 6,
   "metadata": {},
   "outputs": [],
   "source": [
    "def printError(model):\n",
    "\n",
    "    labels_pred = pd.DataFrame(model.predict(normed_train_data),columns =source_terms)\n",
    "       \n",
    "    labels = normed_train_labels\n",
    "\n",
    "    error = abs(2*(labels_pred - labels)/(labels_pred + labels))\n",
    "    \n",
    "    return error.describe().transpose()['mean'] \n",
    "    "
   ]
  },
  {
   "cell_type": "code",
   "execution_count": 7,
   "metadata": {},
   "outputs": [
    {
     "data": {
      "text/html": [
       "<div>\n",
       "<style>\n",
       "    .dataframe thead tr:only-child th {\n",
       "        text-align: right;\n",
       "    }\n",
       "\n",
       "    .dataframe thead th {\n",
       "        text-align: left;\n",
       "    }\n",
       "\n",
       "    .dataframe tbody tr th {\n",
       "        vertical-align: top;\n",
       "    }\n",
       "</style>\n",
       "<table border=\"1\" class=\"dataframe\">\n",
       "  <thead>\n",
       "    <tr style=\"text-align: right;\">\n",
       "      <th></th>\n",
       "      <th>X</th>\n",
       "      <th>YiCH4</th>\n",
       "      <th>YiH</th>\n",
       "      <th>YiO</th>\n",
       "      <th>YiO2</th>\n",
       "      <th>YiOH</th>\n",
       "      <th>YiH2O</th>\n",
       "      <th>YiHO2</th>\n",
       "      <th>YiH2O2</th>\n",
       "      <th>YiC</th>\n",
       "      <th>...</th>\n",
       "      <th>YiHCNO</th>\n",
       "      <th>YiHOCN</th>\n",
       "      <th>YiHNCO</th>\n",
       "      <th>YiNCO</th>\n",
       "      <th>YiC3H7</th>\n",
       "      <th>YiC3H8</th>\n",
       "      <th>YiCH2CHO</th>\n",
       "      <th>YiCH3CHO</th>\n",
       "      <th>YiN2</th>\n",
       "      <th>YiAR</th>\n",
       "    </tr>\n",
       "  </thead>\n",
       "  <tbody>\n",
       "    <tr>\n",
       "      <th>count</th>\n",
       "      <td>2.030100e+04</td>\n",
       "      <td>2.030100e+04</td>\n",
       "      <td>2.030100e+04</td>\n",
       "      <td>2.030100e+04</td>\n",
       "      <td>2.030100e+04</td>\n",
       "      <td>2.030100e+04</td>\n",
       "      <td>2.030100e+04</td>\n",
       "      <td>2.030100e+04</td>\n",
       "      <td>2.030100e+04</td>\n",
       "      <td>2.030100e+04</td>\n",
       "      <td>...</td>\n",
       "      <td>2.030100e+04</td>\n",
       "      <td>2.030100e+04</td>\n",
       "      <td>2.030100e+04</td>\n",
       "      <td>2.030100e+04</td>\n",
       "      <td>2.030100e+04</td>\n",
       "      <td>2.030100e+04</td>\n",
       "      <td>2.030100e+04</td>\n",
       "      <td>2.030100e+04</td>\n",
       "      <td>2.030100e+04</td>\n",
       "      <td>2.030100e+04</td>\n",
       "    </tr>\n",
       "    <tr>\n",
       "      <th>mean</th>\n",
       "      <td>1.616897e-15</td>\n",
       "      <td>1.472204e-17</td>\n",
       "      <td>-1.941148e-14</td>\n",
       "      <td>3.313963e-14</td>\n",
       "      <td>1.363199e-15</td>\n",
       "      <td>-1.845620e-14</td>\n",
       "      <td>7.349380e-14</td>\n",
       "      <td>1.176258e-14</td>\n",
       "      <td>-6.853118e-15</td>\n",
       "      <td>9.907737e-15</td>\n",
       "      <td>...</td>\n",
       "      <td>-9.503876e-14</td>\n",
       "      <td>8.916558e-14</td>\n",
       "      <td>1.397999e-13</td>\n",
       "      <td>6.615198e-15</td>\n",
       "      <td>-4.893911e-14</td>\n",
       "      <td>3.028205e-14</td>\n",
       "      <td>4.792039e-14</td>\n",
       "      <td>-4.589386e-14</td>\n",
       "      <td>-1.933443e-16</td>\n",
       "      <td>3.025056e-15</td>\n",
       "    </tr>\n",
       "    <tr>\n",
       "      <th>std</th>\n",
       "      <td>1.000025e+00</td>\n",
       "      <td>1.000025e+00</td>\n",
       "      <td>1.000025e+00</td>\n",
       "      <td>1.000025e+00</td>\n",
       "      <td>1.000025e+00</td>\n",
       "      <td>1.000025e+00</td>\n",
       "      <td>1.000025e+00</td>\n",
       "      <td>1.000025e+00</td>\n",
       "      <td>1.000025e+00</td>\n",
       "      <td>1.000025e+00</td>\n",
       "      <td>...</td>\n",
       "      <td>1.000025e+00</td>\n",
       "      <td>1.000025e+00</td>\n",
       "      <td>1.000025e+00</td>\n",
       "      <td>1.000025e+00</td>\n",
       "      <td>1.000025e+00</td>\n",
       "      <td>1.000025e+00</td>\n",
       "      <td>1.000025e+00</td>\n",
       "      <td>1.000025e+00</td>\n",
       "      <td>1.000025e+00</td>\n",
       "      <td>1.000025e+00</td>\n",
       "    </tr>\n",
       "    <tr>\n",
       "      <th>min</th>\n",
       "      <td>-6.312692e-01</td>\n",
       "      <td>-1.596536e+00</td>\n",
       "      <td>-1.464646e-01</td>\n",
       "      <td>-1.388392e-01</td>\n",
       "      <td>-1.263701e+00</td>\n",
       "      <td>-1.448967e-01</td>\n",
       "      <td>-4.630802e-01</td>\n",
       "      <td>-1.436031e-01</td>\n",
       "      <td>-1.390174e-01</td>\n",
       "      <td>-1.242482e-01</td>\n",
       "      <td>...</td>\n",
       "      <td>-4.253992e-01</td>\n",
       "      <td>-3.577121e-01</td>\n",
       "      <td>-4.232221e-01</td>\n",
       "      <td>-1.556016e-01</td>\n",
       "      <td>-3.033364e-01</td>\n",
       "      <td>-3.182868e-01</td>\n",
       "      <td>-1.980733e-01</td>\n",
       "      <td>-2.666356e-01</td>\n",
       "      <td>-1.780980e+00</td>\n",
       "      <td>-2.811918e-01</td>\n",
       "    </tr>\n",
       "    <tr>\n",
       "      <th>25%</th>\n",
       "      <td>-5.819554e-01</td>\n",
       "      <td>-8.762849e-01</td>\n",
       "      <td>-1.464646e-01</td>\n",
       "      <td>-1.388392e-01</td>\n",
       "      <td>-1.021021e+00</td>\n",
       "      <td>-1.448967e-01</td>\n",
       "      <td>-4.630802e-01</td>\n",
       "      <td>-1.436031e-01</td>\n",
       "      <td>-1.390174e-01</td>\n",
       "      <td>-1.242482e-01</td>\n",
       "      <td>...</td>\n",
       "      <td>-4.253992e-01</td>\n",
       "      <td>-3.577121e-01</td>\n",
       "      <td>-4.232221e-01</td>\n",
       "      <td>-1.556016e-01</td>\n",
       "      <td>-3.033364e-01</td>\n",
       "      <td>-3.182868e-01</td>\n",
       "      <td>-1.980733e-01</td>\n",
       "      <td>-2.666356e-01</td>\n",
       "      <td>-8.551074e-01</td>\n",
       "      <td>-2.708251e-01</td>\n",
       "    </tr>\n",
       "    <tr>\n",
       "      <th>50%</th>\n",
       "      <td>-4.462341e-01</td>\n",
       "      <td>-2.893026e-02</td>\n",
       "      <td>-1.464646e-01</td>\n",
       "      <td>-1.388392e-01</td>\n",
       "      <td>-9.727086e-02</td>\n",
       "      <td>-1.448967e-01</td>\n",
       "      <td>-4.630802e-01</td>\n",
       "      <td>-1.436031e-01</td>\n",
       "      <td>-1.390174e-01</td>\n",
       "      <td>-1.242482e-01</td>\n",
       "      <td>...</td>\n",
       "      <td>-4.253992e-01</td>\n",
       "      <td>-3.577121e-01</td>\n",
       "      <td>-4.232221e-01</td>\n",
       "      <td>-1.556016e-01</td>\n",
       "      <td>-3.033364e-01</td>\n",
       "      <td>-3.182868e-01</td>\n",
       "      <td>-1.980733e-01</td>\n",
       "      <td>-2.666356e-01</td>\n",
       "      <td>2.749980e-02</td>\n",
       "      <td>-2.633181e-01</td>\n",
       "    </tr>\n",
       "    <tr>\n",
       "      <th>75%</th>\n",
       "      <td>1.084132e-01</td>\n",
       "      <td>8.523186e-01</td>\n",
       "      <td>-1.464646e-01</td>\n",
       "      <td>-1.388392e-01</td>\n",
       "      <td>8.734493e-01</td>\n",
       "      <td>-1.448967e-01</td>\n",
       "      <td>-4.630802e-01</td>\n",
       "      <td>-1.436031e-01</td>\n",
       "      <td>-1.390174e-01</td>\n",
       "      <td>-1.242482e-01</td>\n",
       "      <td>...</td>\n",
       "      <td>-4.253992e-01</td>\n",
       "      <td>-3.577121e-01</td>\n",
       "      <td>-4.232221e-01</td>\n",
       "      <td>-1.556016e-01</td>\n",
       "      <td>-3.033364e-01</td>\n",
       "      <td>-3.182868e-01</td>\n",
       "      <td>-1.980733e-01</td>\n",
       "      <td>-2.666356e-01</td>\n",
       "      <td>8.754949e-01</td>\n",
       "      <td>-2.536664e-01</td>\n",
       "    </tr>\n",
       "    <tr>\n",
       "      <th>max</th>\n",
       "      <td>5.780613e+00</td>\n",
       "      <td>1.775935e+00</td>\n",
       "      <td>1.172037e+01</td>\n",
       "      <td>1.207881e+01</td>\n",
       "      <td>1.851998e+00</td>\n",
       "      <td>1.041107e+01</td>\n",
       "      <td>3.177223e+00</td>\n",
       "      <td>1.741248e+01</td>\n",
       "      <td>1.774017e+01</td>\n",
       "      <td>1.977532e+01</td>\n",
       "      <td>...</td>\n",
       "      <td>4.164054e+00</td>\n",
       "      <td>9.786465e+00</td>\n",
       "      <td>4.083965e+00</td>\n",
       "      <td>1.301466e+01</td>\n",
       "      <td>1.319934e+01</td>\n",
       "      <td>8.594379e+00</td>\n",
       "      <td>2.188150e+01</td>\n",
       "      <td>1.366857e+01</td>\n",
       "      <td>1.662919e+00</td>\n",
       "      <td>6.347428e+00</td>\n",
       "    </tr>\n",
       "  </tbody>\n",
       "</table>\n",
       "<p>8 rows × 54 columns</p>\n",
       "</div>"
      ],
      "text/plain": [
       "                  X         YiCH4           YiH           YiO          YiO2  \\\n",
       "count  2.030100e+04  2.030100e+04  2.030100e+04  2.030100e+04  2.030100e+04   \n",
       "mean   1.616897e-15  1.472204e-17 -1.941148e-14  3.313963e-14  1.363199e-15   \n",
       "std    1.000025e+00  1.000025e+00  1.000025e+00  1.000025e+00  1.000025e+00   \n",
       "min   -6.312692e-01 -1.596536e+00 -1.464646e-01 -1.388392e-01 -1.263701e+00   \n",
       "25%   -5.819554e-01 -8.762849e-01 -1.464646e-01 -1.388392e-01 -1.021021e+00   \n",
       "50%   -4.462341e-01 -2.893026e-02 -1.464646e-01 -1.388392e-01 -9.727086e-02   \n",
       "75%    1.084132e-01  8.523186e-01 -1.464646e-01 -1.388392e-01  8.734493e-01   \n",
       "max    5.780613e+00  1.775935e+00  1.172037e+01  1.207881e+01  1.851998e+00   \n",
       "\n",
       "               YiOH         YiH2O         YiHO2        YiH2O2           YiC  \\\n",
       "count  2.030100e+04  2.030100e+04  2.030100e+04  2.030100e+04  2.030100e+04   \n",
       "mean  -1.845620e-14  7.349380e-14  1.176258e-14 -6.853118e-15  9.907737e-15   \n",
       "std    1.000025e+00  1.000025e+00  1.000025e+00  1.000025e+00  1.000025e+00   \n",
       "min   -1.448967e-01 -4.630802e-01 -1.436031e-01 -1.390174e-01 -1.242482e-01   \n",
       "25%   -1.448967e-01 -4.630802e-01 -1.436031e-01 -1.390174e-01 -1.242482e-01   \n",
       "50%   -1.448967e-01 -4.630802e-01 -1.436031e-01 -1.390174e-01 -1.242482e-01   \n",
       "75%   -1.448967e-01 -4.630802e-01 -1.436031e-01 -1.390174e-01 -1.242482e-01   \n",
       "max    1.041107e+01  3.177223e+00  1.741248e+01  1.774017e+01  1.977532e+01   \n",
       "\n",
       "           ...             YiHCNO        YiHOCN        YiHNCO         YiNCO  \\\n",
       "count      ...       2.030100e+04  2.030100e+04  2.030100e+04  2.030100e+04   \n",
       "mean       ...      -9.503876e-14  8.916558e-14  1.397999e-13  6.615198e-15   \n",
       "std        ...       1.000025e+00  1.000025e+00  1.000025e+00  1.000025e+00   \n",
       "min        ...      -4.253992e-01 -3.577121e-01 -4.232221e-01 -1.556016e-01   \n",
       "25%        ...      -4.253992e-01 -3.577121e-01 -4.232221e-01 -1.556016e-01   \n",
       "50%        ...      -4.253992e-01 -3.577121e-01 -4.232221e-01 -1.556016e-01   \n",
       "75%        ...      -4.253992e-01 -3.577121e-01 -4.232221e-01 -1.556016e-01   \n",
       "max        ...       4.164054e+00  9.786465e+00  4.083965e+00  1.301466e+01   \n",
       "\n",
       "             YiC3H7        YiC3H8      YiCH2CHO      YiCH3CHO          YiN2  \\\n",
       "count  2.030100e+04  2.030100e+04  2.030100e+04  2.030100e+04  2.030100e+04   \n",
       "mean  -4.893911e-14  3.028205e-14  4.792039e-14 -4.589386e-14 -1.933443e-16   \n",
       "std    1.000025e+00  1.000025e+00  1.000025e+00  1.000025e+00  1.000025e+00   \n",
       "min   -3.033364e-01 -3.182868e-01 -1.980733e-01 -2.666356e-01 -1.780980e+00   \n",
       "25%   -3.033364e-01 -3.182868e-01 -1.980733e-01 -2.666356e-01 -8.551074e-01   \n",
       "50%   -3.033364e-01 -3.182868e-01 -1.980733e-01 -2.666356e-01  2.749980e-02   \n",
       "75%   -3.033364e-01 -3.182868e-01 -1.980733e-01 -2.666356e-01  8.754949e-01   \n",
       "max    1.319934e+01  8.594379e+00  2.188150e+01  1.366857e+01  1.662919e+00   \n",
       "\n",
       "               YiAR  \n",
       "count  2.030100e+04  \n",
       "mean   3.025056e-15  \n",
       "std    1.000025e+00  \n",
       "min   -2.811918e-01  \n",
       "25%   -2.708251e-01  \n",
       "50%   -2.633181e-01  \n",
       "75%   -2.536664e-01  \n",
       "max    6.347428e+00  \n",
       "\n",
       "[8 rows x 54 columns]"
      ]
     },
     "execution_count": 7,
     "metadata": {},
     "output_type": "execute_result"
    }
   ],
   "source": [
    "normed_train_data.describe()"
   ]
  },
  {
   "cell_type": "code",
   "execution_count": 38,
   "metadata": {},
   "outputs": [
    {
     "name": "stdout",
     "output_type": "stream",
     "text": [
      "Linear Regression Error: \n"
     ]
    },
    {
     "data": {
      "text/plain": [
       "souener    1.84314\n",
       "Name: mean, dtype: float64"
      ]
     },
     "execution_count": 38,
     "metadata": {},
     "output_type": "execute_result"
    }
   ],
   "source": [
    "from sklearn.linear_model import LinearRegression\n",
    "from sklearn.metrics import mean_squared_error, r2_score\n",
    "from sklearn.preprocessing import PolynomialFeatures\n",
    "\n",
    "polynomial_features= PolynomialFeatures(degree=2)\n",
    "\n",
    "normed_train_data_poly = polynomial_features.fit_transform(normed_train_data)\n",
    "\n",
    "model = LinearRegression()\n",
    "\n",
    "model.fit(normed_train_data_poly, normed_train_labels)\n",
    "\n",
    "print(\"Linear Regression Error: \")\n",
    "\n",
    "# Prediction on validation set\n",
    "labels_pred = pd.DataFrame(model.predict(normed_train_data_poly),columns =source_terms)\n",
    "\n",
    "labels = normed_train_labels\n",
    "\n",
    "error = abs(2*(labels_pred - labels)/(labels_pred + labels))\n",
    "\n",
    "error.describe().transpose()['mean']"
   ]
  },
  {
   "cell_type": "code",
   "execution_count": 34,
   "metadata": {},
   "outputs": [
    {
     "name": "stderr",
     "output_type": "stream",
     "text": [
      "C:\\Users\\amol\\AppData\\Local\\Continuum\\Anaconda3\\envs\\tensorflow\\lib\\site-packages\\sklearn\\utils\\validation.py:547: DataConversionWarning: A column-vector y was passed when a 1d array was expected. Please change the shape of y to (n_samples, ), for example using ravel().\n",
      "  y = column_or_1d(y, warn=True)\n"
     ]
    },
    {
     "name": "stdout",
     "output_type": "stream",
     "text": [
      "Linear(SGD) Regression Error: \n"
     ]
    },
    {
     "data": {
      "text/plain": [
       "souener    2.00001\n",
       "Name: mean, dtype: float64"
      ]
     },
     "execution_count": 34,
     "metadata": {},
     "output_type": "execute_result"
    }
   ],
   "source": [
    "from sklearn.linear_model import SGDRegressor\n",
    "\n",
    "model = SGDRegressor(loss='squared_loss', penalty='l2', alpha=0.0001, l1_ratio=0.15, fit_intercept=True, max_iter=1000, tol=0.001, shuffle=True, verbose=0, epsilon=0.1, random_state=None, learning_rate='invscaling', eta0=0.01, power_t=0.25)\n",
    "\n",
    "model.fit(normed_train_data_poly, normed_train_labels)\n",
    "\n",
    "print(\"Linear(SGD) Regression Error: \")\n",
    "\n",
    "# Prediction on validation set\n",
    "labels_pred = pd.DataFrame(model.predict(normed_train_data_poly),columns =source_terms)\n",
    "\n",
    "labels = normed_train_labels\n",
    "\n",
    "error = abs(2*(labels_pred - labels)/(labels_pred + labels))\n",
    "\n",
    "error.describe().transpose()['mean']\n"
   ]
  },
  {
   "cell_type": "code",
   "execution_count": 35,
   "metadata": {},
   "outputs": [
    {
     "name": "stdout",
     "output_type": "stream",
     "text": [
      "Linear(SGD) Regression Error: \n"
     ]
    },
    {
     "data": {
      "text/plain": [
       "souener    6.149281\n",
       "Name: mean, dtype: float64"
      ]
     },
     "execution_count": 35,
     "metadata": {},
     "output_type": "execute_result"
    }
   ],
   "source": [
    "from sklearn.linear_model import RANSACRegressor\n",
    "\n",
    "model = RANSACRegressor()\n",
    "\n",
    "model.fit(normed_train_data_poly, normed_train_labels)\n",
    "\n",
    "print(\"RANSAC Regression Error: \")\n",
    "\n",
    "# Prediction on validation set\n",
    "labels_pred = pd.DataFrame(model.predict(normed_train_data_poly),columns =source_terms)\n",
    "\n",
    "labels = normed_train_labels\n",
    "\n",
    "error = abs(2*(labels_pred - labels)/(labels_pred + labels))\n",
    "\n",
    "error.describe().transpose()['mean']\n"
   ]
  },
  {
   "cell_type": "code",
   "execution_count": 9,
   "metadata": {},
   "outputs": [
    {
     "name": "stdout",
     "output_type": "stream",
     "text": [
      "Decision Tree Regression Error: \n"
     ]
    },
    {
     "data": {
      "text/plain": [
       "souener    5.165705\n",
       "Name: mean, dtype: float64"
      ]
     },
     "execution_count": 9,
     "metadata": {},
     "output_type": "execute_result"
    }
   ],
   "source": [
    "#Regression Using a Decision Tree Regressor\n",
    "from sklearn.tree import DecisionTreeRegressor\n",
    "model = DecisionTreeRegressor()\n",
    "model.fit(normed_train_data, normed_train_labels)\n",
    "print(\"Decision Tree Regression Error: \")\n",
    "labels_pred = pd.DataFrame(model.predict(normed_train_data),columns =source_terms)\n",
    "       \n",
    "labels = normed_train_labels\n",
    "\n",
    "error = abs(2*(labels_pred - labels)/(labels_pred + labels))\n",
    "    \n",
    "error.describe().transpose()['mean']"
   ]
  },
  {
   "cell_type": "code",
   "execution_count": 19,
   "metadata": {},
   "outputs": [
    {
     "name": "stderr",
     "output_type": "stream",
     "text": [
      "C:\\Users\\amol\\AppData\\Local\\Continuum\\Anaconda3\\envs\\tensorflow\\lib\\site-packages\\sklearn\\utils\\validation.py:547: DataConversionWarning: A column-vector y was passed when a 1d array was expected. Please change the shape of y to (n_samples, ), for example using ravel().\n",
      "  y = column_or_1d(y, warn=True)\n"
     ]
    },
    {
     "name": "stdout",
     "output_type": "stream",
     "text": [
      "Adaboost Regression Error: \n"
     ]
    },
    {
     "data": {
      "text/plain": [
       "souener    1.945272\n",
       "Name: mean, dtype: float64"
      ]
     },
     "execution_count": 19,
     "metadata": {},
     "output_type": "execute_result"
    }
   ],
   "source": [
    "#Regression Using a Adaboost Regressor\n",
    "from sklearn.ensemble import AdaBoostRegressor\n",
    "model = AdaBoostRegressor(n_estimators=50, learning_rate=1.0, loss='square',random_state=None)\n",
    "model.fit(normed_train_data, normed_train_labels)\n",
    "print(\"Adaboost Regression Error: \")\n",
    "labels_pred = pd.DataFrame(model.predict(normed_train_data),columns =source_terms)\n",
    "       \n",
    "labels = normed_train_labels\n",
    "\n",
    "error = abs(2*(labels_pred - labels)/(labels_pred + labels))\n",
    "    \n",
    "error.describe().transpose()['mean']"
   ]
  },
  {
   "cell_type": "code",
   "execution_count": 24,
   "metadata": {},
   "outputs": [
    {
     "name": "stdout",
     "output_type": "stream",
     "text": [
      "Kernel Ridge Regression Error: \n"
     ]
    },
    {
     "data": {
      "text/plain": [
       "souener    2.018277\n",
       "Name: mean, dtype: float64"
      ]
     },
     "execution_count": 24,
     "metadata": {},
     "output_type": "execute_result"
    }
   ],
   "source": [
    "#Regression Using a Kernel Ridge Regressor\n",
    "from sklearn.kernel_ridge import KernelRidge\n",
    "model = KernelRidge(alpha=1.0, coef0=1, degree=3, gamma=None, kernel='linear',kernel_params=None)\n",
    "model.fit(normed_train_data, normed_train_labels)\n",
    "print(\"Kernel Ridge Regression Error: \")\n",
    "labels_pred = pd.DataFrame(model.predict(normed_train_data),columns =source_terms)\n",
    "       \n",
    "labels = normed_train_labels\n",
    "\n",
    "error = abs(2*(labels_pred - labels)/(labels_pred + labels))\n",
    "    \n",
    "error.describe().transpose()['mean']"
   ]
  },
  {
   "cell_type": "code",
   "execution_count": 23,
   "metadata": {},
   "outputs": [
    {
     "name": "stdout",
     "output_type": "stream",
     "text": [
      "Kernel Ridge (RBF Kernel) Regression Error: \n"
     ]
    },
    {
     "data": {
      "text/plain": [
       "souener    2.311303\n",
       "Name: mean, dtype: float64"
      ]
     },
     "execution_count": 23,
     "metadata": {},
     "output_type": "execute_result"
    }
   ],
   "source": [
    "#Regression Using a Kernel Ridge (RBF Kernel) Regressor\n",
    "from sklearn.kernel_ridge import KernelRidge\n",
    "model = KernelRidge(alpha=1.0, coef0=1, degree=3, gamma=None, kernel='rbf',kernel_params=None)\n",
    "model.fit(normed_train_data, normed_train_labels)\n",
    "print(\"Kernel Ridge (RBF Kernel) Regression Error: \")\n",
    "labels_pred = pd.DataFrame(model.predict(normed_train_data),columns =source_terms)\n",
    "       \n",
    "labels = normed_train_labels\n",
    "\n",
    "error = abs(2*(labels_pred - labels)/(labels_pred + labels))\n",
    "    \n",
    "error.describe().transpose()['mean']"
   ]
  },
  {
   "cell_type": "code",
   "execution_count": 10,
   "metadata": {},
   "outputs": [
    {
     "name": "stderr",
     "output_type": "stream",
     "text": [
      "C:\\Users\\amol\\AppData\\Local\\Continuum\\Anaconda3\\envs\\tensorflow\\lib\\site-packages\\sklearn\\utils\\validation.py:547: DataConversionWarning: A column-vector y was passed when a 1d array was expected. Please change the shape of y to (n_samples, ), for example using ravel().\n",
      "  y = column_or_1d(y, warn=True)\n"
     ]
    },
    {
     "name": "stdout",
     "output_type": "stream",
     "text": [
      "Bagging Regression Error: \n"
     ]
    },
    {
     "data": {
      "text/plain": [
       "souener    3.410306\n",
       "Name: mean, dtype: float64"
      ]
     },
     "execution_count": 10,
     "metadata": {},
     "output_type": "execute_result"
    }
   ],
   "source": [
    "#Regression Using a Bagging Regressor\n",
    "from sklearn.ensemble import BaggingRegressor\n",
    "model = BaggingRegressor(DecisionTreeRegressor())\n",
    "model.fit(normed_train_data, normed_train_labels)\n",
    "print(\"Bagging Regression Error: \")\n",
    "labels_pred = pd.DataFrame(model.predict(normed_train_data),columns =source_terms)\n",
    "       \n",
    "labels = normed_train_labels\n",
    "\n",
    "error = abs(2*(labels_pred - labels)/(labels_pred + labels))\n",
    "    \n",
    "error.describe().transpose()['mean']\n"
   ]
  },
  {
   "cell_type": "code",
   "execution_count": 11,
   "metadata": {},
   "outputs": [
    {
     "name": "stderr",
     "output_type": "stream",
     "text": [
      "C:\\Users\\amol\\AppData\\Local\\Continuum\\Anaconda3\\envs\\tensorflow\\lib\\site-packages\\ipykernel_launcher.py:6: DataConversionWarning: A column-vector y was passed when a 1d array was expected. Please change the shape of y to (n_samples,), for example using ravel().\n",
      "  \n"
     ]
    },
    {
     "name": "stdout",
     "output_type": "stream",
     "text": [
      "Random Forest Regression Error: \n"
     ]
    },
    {
     "data": {
      "text/plain": [
       "souener    2.302289\n",
       "Name: mean, dtype: float64"
      ]
     },
     "execution_count": 11,
     "metadata": {},
     "output_type": "execute_result"
    }
   ],
   "source": [
    "# Import the model we are using\n",
    "from sklearn.ensemble import RandomForestRegressor\n",
    "# Instantiate model with 1000 decision trees\n",
    "model = RandomForestRegressor(n_estimators = 1500, random_state = 42)\n",
    "# Train the model on training data\n",
    "model.fit(normed_train_data, normed_train_labels);\n",
    "print(\"Random Forest Regression Error: \")\n",
    "\n",
    "# Prediction on validation set\n",
    "labels_pred = pd.DataFrame(model.predict(normed_train_data),columns =source_terms)\n",
    "\n",
    "labels = normed_train_labels\n",
    "\n",
    "error = abs(2*(labels_pred - labels)/(labels_pred + labels))\n",
    "\n",
    "error.describe().transpose()['mean']"
   ]
  },
  {
   "cell_type": "code",
   "execution_count": 12,
   "metadata": {},
   "outputs": [
    {
     "name": "stderr",
     "output_type": "stream",
     "text": [
      "C:\\Users\\amol\\AppData\\Local\\Continuum\\Anaconda3\\envs\\tensorflow\\lib\\site-packages\\sklearn\\utils\\validation.py:547: DataConversionWarning: A column-vector y was passed when a 1d array was expected. Please change the shape of y to (n_samples, ), for example using ravel().\n",
      "  y = column_or_1d(y, warn=True)\n"
     ]
    },
    {
     "name": "stdout",
     "output_type": "stream",
     "text": [
      "Support Vector Regression (RBF Kernel) Error: \n"
     ]
    },
    {
     "data": {
      "text/plain": [
       "souener    1.853436\n",
       "Name: mean, dtype: float64"
      ]
     },
     "execution_count": 12,
     "metadata": {},
     "output_type": "execute_result"
    }
   ],
   "source": [
    "#Regression using a Support Vector Machine\n",
    "from sklearn.svm import SVR\n",
    "\n",
    "model = SVR(kernel='rbf', C=100, gamma=0.1, epsilon=.1)\n",
    "\n",
    "# Train the model on training data\n",
    "model.fit(normed_train_data, normed_train_labels);\n",
    "print(\"Support Vector Regression (RBF Kernel) Error: \")\n",
    "\n",
    "# Prediction on validation set\n",
    "labels_pred = pd.DataFrame(model.predict(normed_train_data),columns =source_terms)\n",
    "\n",
    "labels = normed_train_labels\n",
    "\n",
    "error = abs(2*(labels_pred - labels)/(labels_pred + labels))\n",
    "\n",
    "error.describe().transpose()['mean']\n"
   ]
  },
  {
   "cell_type": "code",
   "execution_count": 13,
   "metadata": {},
   "outputs": [
    {
     "name": "stderr",
     "output_type": "stream",
     "text": [
      "C:\\Users\\amol\\AppData\\Local\\Continuum\\Anaconda3\\envs\\tensorflow\\lib\\site-packages\\sklearn\\utils\\validation.py:547: DataConversionWarning: A column-vector y was passed when a 1d array was expected. Please change the shape of y to (n_samples, ), for example using ravel().\n",
      "  y = column_or_1d(y, warn=True)\n"
     ]
    },
    {
     "name": "stdout",
     "output_type": "stream",
     "text": [
      "Support Vector Regression (Polynomial Kernel) Error: \n"
     ]
    },
    {
     "data": {
      "text/plain": [
       "souener    2.187997\n",
       "Name: mean, dtype: float64"
      ]
     },
     "execution_count": 13,
     "metadata": {},
     "output_type": "execute_result"
    }
   ],
   "source": [
    "model = SVR(kernel='poly', C=100, gamma='auto', degree=3, epsilon=.1,coef0=1)\n",
    "\n",
    "# Train the model on training data\n",
    "model.fit(normed_train_data, normed_train_labels);\n",
    "print(\"Support Vector Regression (Polynomial Kernel) Error: \")\n",
    "\n",
    "# Prediction on validation set\n",
    "labels_pred = pd.DataFrame(model.predict(normed_train_data),columns =source_terms)\n",
    "\n",
    "labels = normed_train_labels\n",
    "\n",
    "error = abs(2*(labels_pred - labels)/(labels_pred + labels))\n",
    "\n",
    "error.describe().transpose()['mean']\n"
   ]
  },
  {
   "cell_type": "code",
   "execution_count": 14,
   "metadata": {},
   "outputs": [
    {
     "name": "stderr",
     "output_type": "stream",
     "text": [
      "C:\\Users\\amol\\AppData\\Local\\Continuum\\Anaconda3\\envs\\tensorflow\\lib\\site-packages\\sklearn\\utils\\validation.py:547: DataConversionWarning: A column-vector y was passed when a 1d array was expected. Please change the shape of y to (n_samples, ), for example using ravel().\n",
      "  y = column_or_1d(y, warn=True)\n"
     ]
    },
    {
     "name": "stdout",
     "output_type": "stream",
     "text": [
      "Support Vector Regression (Linear Kernel) Error: \n"
     ]
    },
    {
     "data": {
      "text/plain": [
       "souener    2.15789\n",
       "Name: mean, dtype: float64"
      ]
     },
     "execution_count": 14,
     "metadata": {},
     "output_type": "execute_result"
    }
   ],
   "source": [
    "model = SVR(kernel='linear', C=100, gamma='auto')\n",
    "\n",
    "# Train the model on training data\n",
    "model.fit(normed_train_data, normed_train_labels);\n",
    "print(\"Support Vector Regression (Linear Kernel) Error: \")\n",
    "\n",
    "# Prediction on validation set\n",
    "labels_pred = pd.DataFrame(model.predict(normed_train_data),columns =source_terms)\n",
    "\n",
    "labels = normed_train_labels\n",
    "\n",
    "error = abs(2*(labels_pred - labels)/(labels_pred + labels))\n",
    "\n",
    "error.describe().transpose()['mean']"
   ]
  },
  {
   "cell_type": "code",
   "execution_count": null,
   "metadata": {
    "collapsed": true
   },
   "outputs": [],
   "source": []
  }
 ],
 "metadata": {
  "kernelspec": {
   "display_name": "Python 3",
   "language": "python",
   "name": "python3"
  },
  "language_info": {
   "codemirror_mode": {
    "name": "ipython",
    "version": 3
   },
   "file_extension": ".py",
   "mimetype": "text/x-python",
   "name": "python",
   "nbconvert_exporter": "python",
   "pygments_lexer": "ipython3",
   "version": "3.5.6"
  }
 },
 "nbformat": 4,
 "nbformat_minor": 2
}
